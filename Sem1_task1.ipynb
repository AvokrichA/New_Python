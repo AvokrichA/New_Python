{
  "nbformat": 4,
  "nbformat_minor": 0,
  "metadata": {
    "colab": {
      "provenance": [],
      "authorship_tag": "ABX9TyPz9zfY/CzKU74riy7rYpRh",
      "include_colab_link": true
    },
    "kernelspec": {
      "name": "python3",
      "display_name": "Python 3"
    },
    "language_info": {
      "name": "python"
    }
  },
  "cells": [
    {
      "cell_type": "markdown",
      "metadata": {
        "id": "view-in-github",
        "colab_type": "text"
      },
      "source": [
        "<a href=\"https://colab.research.google.com/github/AvokrichA/New_Python/blob/master/Sem1_task1.ipynb\" target=\"_parent\"><img src=\"https://colab.research.google.com/assets/colab-badge.svg\" alt=\"Open In Colab\"/></a>"
      ]
    },
    {
      "cell_type": "code",
      "execution_count": null,
      "metadata": {
        "id": "06Y61WcTRzZ9"
      },
      "outputs": [],
      "source": []
    },
    {
      "cell_type": "markdown",
      "source": [
        "## Задача 1. Соедините два словаря в один"
      ],
      "metadata": {
        "id": "UvDURZlmjs88"
      }
    },
    {
      "cell_type": "code",
      "source": [
        "dict1 = {'One':1, 'Two':2, 'Three':3}\n",
        "dict2= {'Four':4, 'Five':5, 'Six':6}"
      ],
      "metadata": {
        "id": "nWoJHhPij-ZG"
      },
      "execution_count": 6,
      "outputs": []
    },
    {
      "cell_type": "code",
      "source": [
        "new_dict = dict1 | dict2"
      ],
      "metadata": {
        "id": "WkFkLua5kZHo"
      },
      "execution_count": 7,
      "outputs": []
    },
    {
      "cell_type": "code",
      "source": [
        "print(new_dict)"
      ],
      "metadata": {
        "colab": {
          "base_uri": "https://localhost:8080/"
        },
        "id": "qg0Y1r3UlWbx",
        "outputId": "a9dc079c-cd40-40dd-e659-7c32a8b41e21"
      },
      "execution_count": 8,
      "outputs": [
        {
          "output_type": "stream",
          "name": "stdout",
          "text": [
            "{'One': 1, 'Two': 2, 'Three': 3, 'Four': 4, 'Five': 5, 'Six': 6}\n"
          ]
        }
      ]
    }
  ]
}